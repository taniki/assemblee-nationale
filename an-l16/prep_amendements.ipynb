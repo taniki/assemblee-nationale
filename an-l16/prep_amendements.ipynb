{
 "cells": [
  {
   "cell_type": "code",
   "execution_count": 5,
   "id": "ae84d75c-1632-40db-b333-4db96fe964a0",
   "metadata": {
    "tags": []
   },
   "outputs": [],
   "source": [
    "import pandas as pd\n",
    "import numpy as np\n",
    "import json\n",
    "import pandas as pd\n",
    "from glob import glob\n",
    "import tqdm"
   ]
  },
  {
   "cell_type": "code",
   "execution_count": 6,
   "id": "8dd69b80-5b20-4fb7-a693-bb20704c3aae",
   "metadata": {
    "tags": []
   },
   "outputs": [
    {
     "data": {
      "text/plain": [
       "78806"
      ]
     },
     "execution_count": 6,
     "metadata": {},
     "output_type": "execute_result"
    }
   ],
   "source": [
    "def get_amendements(filename):\n",
    "    return json.load(open(filename))['amendement']\n",
    "\n",
    "amendements_json = [ get_amendements(f) for f in glob('data/json/**/**/AMAN*.json') ]\n",
    "\n",
    "len(amendements_json)"
   ]
  },
  {
   "cell_type": "code",
   "execution_count": 11,
   "id": "c9a09e7e-0997-4ace-bc0e-00e4a0bf5735",
   "metadata": {
    "tags": []
   },
   "outputs": [
    {
     "data": {
      "text/html": [
       "<div>\n",
       "<style scoped>\n",
       "    .dataframe tbody tr th:only-of-type {\n",
       "        vertical-align: middle;\n",
       "    }\n",
       "\n",
       "    .dataframe tbody tr th {\n",
       "        vertical-align: top;\n",
       "    }\n",
       "\n",
       "    .dataframe thead th {\n",
       "        text-align: right;\n",
       "    }\n",
       "</style>\n",
       "<table border=\"1\" class=\"dataframe\">\n",
       "  <thead>\n",
       "    <tr style=\"text-align: right;\">\n",
       "      <th></th>\n",
       "      <th>id</th>\n",
       "      <th>numero</th>\n",
       "      <th>texte</th>\n",
       "      <th>signataire</th>\n",
       "      <th>organe</th>\n",
       "      <th>dispositif</th>\n",
       "    </tr>\n",
       "  </thead>\n",
       "  <tbody>\n",
       "    <tr>\n",
       "      <th>0</th>\n",
       "      <td>AMANR5L16PO419604B0659P0D1N000007</td>\n",
       "      <td>AC7</td>\n",
       "      <td>PIONANR5L16B0659</td>\n",
       "      <td>PA720822</td>\n",
       "      <td>PO800520</td>\n",
       "      <td>NaN</td>\n",
       "    </tr>\n",
       "    <tr>\n",
       "      <th>1</th>\n",
       "      <td>AMANR5L16PO419604B0659P0D1N000011</td>\n",
       "      <td>AC11</td>\n",
       "      <td>PIONANR5L16B0659</td>\n",
       "      <td>PA721328</td>\n",
       "      <td>PO800538</td>\n",
       "      <td>&lt;p style=\"text-align: justify;\"&gt;R&amp;#233;diger a...</td>\n",
       "    </tr>\n",
       "    <tr>\n",
       "      <th>2</th>\n",
       "      <td>AMANR5L16PO419604B0659P0D1N000010</td>\n",
       "      <td>AC10</td>\n",
       "      <td>PIONANR5L16B0659</td>\n",
       "      <td>PA794154</td>\n",
       "      <td>PO800526</td>\n",
       "      <td>&lt;p style=\"text-align: justify;\"&gt;Apr&amp;#232;s le ...</td>\n",
       "    </tr>\n",
       "    <tr>\n",
       "      <th>3</th>\n",
       "      <td>AMANR5L16PO419604B0659P0D1N000006</td>\n",
       "      <td>AC6</td>\n",
       "      <td>PIONANR5L16B0659</td>\n",
       "      <td>PA794670</td>\n",
       "      <td>PO800520</td>\n",
       "      <td>&lt;p style=\"text-align: justify;\"&gt;Substituer aux...</td>\n",
       "    </tr>\n",
       "    <tr>\n",
       "      <th>4</th>\n",
       "      <td>AMANR5L16PO419604B0659P0D1N000001</td>\n",
       "      <td>AC1</td>\n",
       "      <td>PIONANR5L16B0659</td>\n",
       "      <td>PA795084</td>\n",
       "      <td>PO800490</td>\n",
       "      <td>NaN</td>\n",
       "    </tr>\n",
       "    <tr>\n",
       "      <th>...</th>\n",
       "      <td>...</td>\n",
       "      <td>...</td>\n",
       "      <td>...</td>\n",
       "      <td>...</td>\n",
       "      <td>...</td>\n",
       "      <td>...</td>\n",
       "    </tr>\n",
       "    <tr>\n",
       "      <th>78801</th>\n",
       "      <td>AMANR5L16PO791932BTC0617P0D1N000053</td>\n",
       "      <td>53</td>\n",
       "      <td>PIONANR5L16BTC0617</td>\n",
       "      <td>PA642868</td>\n",
       "      <td>PO800514</td>\n",
       "      <td>NaN</td>\n",
       "    </tr>\n",
       "    <tr>\n",
       "      <th>78802</th>\n",
       "      <td>AMANR5L16PO791932BTC0617P0D1N000116</td>\n",
       "      <td>116</td>\n",
       "      <td>PIONANR5L16BTC0617</td>\n",
       "      <td>PA720696</td>\n",
       "      <td>PO800532</td>\n",
       "      <td>NaN</td>\n",
       "    </tr>\n",
       "    <tr>\n",
       "      <th>78803</th>\n",
       "      <td>AMANR5L16PO791932BTC0617P0D1N000012</td>\n",
       "      <td>12</td>\n",
       "      <td>PIONANR5L16BTC0617</td>\n",
       "      <td>PA795076</td>\n",
       "      <td>PO800526</td>\n",
       "      <td>&lt;p style=\"text-align: justify;\"&gt;I.&amp;#160;&amp;#8211...</td>\n",
       "    </tr>\n",
       "    <tr>\n",
       "      <th>78804</th>\n",
       "      <td>AMANR5L16PO791932BTC0617P0D1N000045</td>\n",
       "      <td>45</td>\n",
       "      <td>PIONANR5L16BTC0617</td>\n",
       "      <td>PA793688</td>\n",
       "      <td>PO800490</td>\n",
       "      <td>&lt;p style=\"text-align: justify;\"&gt;Le Gouvernemen...</td>\n",
       "    </tr>\n",
       "    <tr>\n",
       "      <th>78805</th>\n",
       "      <td>AMANR5L16PO791932BTC0617P0D1N000100</td>\n",
       "      <td>100</td>\n",
       "      <td>PIONANR5L16BTC0617</td>\n",
       "      <td>PA793394</td>\n",
       "      <td>PO800496</td>\n",
       "      <td>&lt;p style=\"text-align: justify;\"&gt;&amp;#192; l&amp;#8217...</td>\n",
       "    </tr>\n",
       "  </tbody>\n",
       "</table>\n",
       "<p>78806 rows × 6 columns</p>\n",
       "</div>"
      ],
      "text/plain": [
       "                                        id numero               texte   \n",
       "0        AMANR5L16PO419604B0659P0D1N000007    AC7    PIONANR5L16B0659  \\\n",
       "1        AMANR5L16PO419604B0659P0D1N000011   AC11    PIONANR5L16B0659   \n",
       "2        AMANR5L16PO419604B0659P0D1N000010   AC10    PIONANR5L16B0659   \n",
       "3        AMANR5L16PO419604B0659P0D1N000006    AC6    PIONANR5L16B0659   \n",
       "4        AMANR5L16PO419604B0659P0D1N000001    AC1    PIONANR5L16B0659   \n",
       "...                                    ...    ...                 ...   \n",
       "78801  AMANR5L16PO791932BTC0617P0D1N000053     53  PIONANR5L16BTC0617   \n",
       "78802  AMANR5L16PO791932BTC0617P0D1N000116    116  PIONANR5L16BTC0617   \n",
       "78803  AMANR5L16PO791932BTC0617P0D1N000012     12  PIONANR5L16BTC0617   \n",
       "78804  AMANR5L16PO791932BTC0617P0D1N000045     45  PIONANR5L16BTC0617   \n",
       "78805  AMANR5L16PO791932BTC0617P0D1N000100    100  PIONANR5L16BTC0617   \n",
       "\n",
       "      signataire    organe                                         dispositif  \n",
       "0       PA720822  PO800520                                                NaN  \n",
       "1       PA721328  PO800538  <p style=\"text-align: justify;\">R&#233;diger a...  \n",
       "2       PA794154  PO800526  <p style=\"text-align: justify;\">Apr&#232;s le ...  \n",
       "3       PA794670  PO800520  <p style=\"text-align: justify;\">Substituer aux...  \n",
       "4       PA795084  PO800490                                                NaN  \n",
       "...          ...       ...                                                ...  \n",
       "78801   PA642868  PO800514                                                NaN  \n",
       "78802   PA720696  PO800532                                                NaN  \n",
       "78803   PA795076  PO800526  <p style=\"text-align: justify;\">I.&#160;&#8211...  \n",
       "78804   PA793688  PO800490  <p style=\"text-align: justify;\">Le Gouvernemen...  \n",
       "78805   PA793394  PO800496  <p style=\"text-align: justify;\">&#192; l&#8217...  \n",
       "\n",
       "[78806 rows x 6 columns]"
      ]
     },
     "execution_count": 11,
     "metadata": {},
     "output_type": "execute_result"
    }
   ],
   "source": [
    "def parse_amendement(a):\n",
    "    return {\n",
    "        'id': a['uid'],\n",
    "        'numero': a['identification']['numeroLong'],\n",
    "        'texte': a['texteLegislatifRef'],\n",
    "        'signataire': a['signataires']['auteur']['acteurRef'],\n",
    "        'organe': a['signataires']['auteur']['groupePolitiqueRef'],\n",
    "        'dispositif' : a['corps']['contenuAuteur']['dispositif'] if 'contenuAuteur' in a['corps'] and 'dispositif' in a['corps']['contenuAuteur'] else np.nan\n",
    "    }\n",
    "\n",
    "amendements = (\n",
    "    pd.DataFrame.from_dict([ parse_amendement(a) for a in amendements_json ])\n",
    ")\n",
    "\n",
    "amendements"
   ]
  },
  {
   "cell_type": "code",
   "execution_count": 12,
   "id": "3c00d5ee-0472-4c15-a0d8-8c535ba4f8fb",
   "metadata": {
    "tags": []
   },
   "outputs": [
    {
     "data": {
      "text/plain": [
       "34699"
      ]
     },
     "execution_count": 12,
     "metadata": {},
     "output_type": "execute_result"
    }
   ],
   "source": [
    "amendements.duplicated(subset='numero').sum()"
   ]
  },
  {
   "cell_type": "code",
   "execution_count": 39,
   "id": "0de663df-f802-4953-b976-ffe27cbf657f",
   "metadata": {
    "tags": []
   },
   "outputs": [],
   "source": [
    "amendements.to_csv('out/amendements.csv', index=False)"
   ]
  },
  {
   "cell_type": "code",
   "execution_count": null,
   "id": "fb116ec1-9827-4291-8e37-22f3ee9ec990",
   "metadata": {},
   "outputs": [],
   "source": []
  }
 ],
 "metadata": {
  "kernelspec": {
   "display_name": "Python 3 (ipykernel)",
   "language": "python",
   "name": "python3"
  },
  "language_info": {
   "codemirror_mode": {
    "name": "ipython",
    "version": 3
   },
   "file_extension": ".py",
   "mimetype": "text/x-python",
   "name": "python",
   "nbconvert_exporter": "python",
   "pygments_lexer": "ipython3",
   "version": "3.9.16"
  }
 },
 "nbformat": 4,
 "nbformat_minor": 5
}
