{
 "cells": [
  {
   "cell_type": "code",
   "execution_count": null,
   "id": "48b18087-0546-41de-b98d-d78a5d29a1c8",
   "metadata": {
    "tags": []
   },
   "outputs": [],
   "source": [
    "!rm -rf downloads"
   ]
  },
  {
   "cell_type": "code",
   "execution_count": null,
   "id": "f4d8a072-acb8-4b4f-bb97-71d14fea1b62",
   "metadata": {
    "tags": []
   },
   "outputs": [],
   "source": [
    "!mkdir downloads"
   ]
  },
  {
   "cell_type": "code",
   "execution_count": null,
   "id": "c8b60dd5-9fea-4e56-9055-7db8ed1b6b5f",
   "metadata": {
    "tags": []
   },
   "outputs": [],
   "source": [
    "!wget -P downloads https://data.assemblee-nationale.fr/static/openData/repository/16/amo/deputes_senateurs_ministres_legislature/AMO20_dep_sen_min_tous_mandats_et_organes.json.zip"
   ]
  },
  {
   "cell_type": "code",
   "execution_count": null,
   "id": "3edf57e9-aad8-432e-914a-09cc0cb09a16",
   "metadata": {
    "tags": []
   },
   "outputs": [],
   "source": [
    "!wget -P downloads https://data.assemblee-nationale.fr/static/openData/repository/16/loi/scrutins/Scrutins.json.zip"
   ]
  },
  {
   "cell_type": "code",
   "execution_count": null,
   "id": "3ae7ad52-1dcc-4e4a-b768-be47e65beb6e",
   "metadata": {},
   "outputs": [],
   "source": [
    "!wget -P downloads https://data.assemblee-nationale.fr/static/openData/repository/16/loi/amendements_div_legis/Amendements.json.zip"
   ]
  },
  {
   "cell_type": "code",
   "execution_count": null,
   "id": "ff3c75c5-d0fe-44ef-ad3f-58fe5e3c42fc",
   "metadata": {},
   "outputs": [],
   "source": [
    "!wget -P downloads https://data.assemblee-nationale.fr/static/openData/repository/16/loi/dossiers_legislatifs/Dossiers_Legislatifs.json.zip"
   ]
  },
  {
   "cell_type": "code",
   "execution_count": null,
   "id": "f1bbbae2-51b4-41f1-92f9-420c9b59a93c",
   "metadata": {},
   "outputs": [],
   "source": [
    "!wget -P downloads https://data.assemblee-nationale.fr/static/openData/repository/16/vp/reunions/Agenda.json.zip"
   ]
  },
  {
   "cell_type": "code",
   "execution_count": null,
   "id": "e4b3b03f-2636-4149-a1e9-32233e13ce46",
   "metadata": {},
   "outputs": [],
   "source": [
    "!wget -P downloads https://data.assemblee-nationale.fr/static/openData/repository/16/vp/syceronbrut/syseron.xml.zip"
   ]
  },
  {
   "cell_type": "code",
   "execution_count": null,
   "id": "18739670-02ce-40fb-98dd-41c6264d2030",
   "metadata": {
    "tags": []
   },
   "outputs": [],
   "source": [
    "!rm -rf data"
   ]
  },
  {
   "cell_type": "code",
   "execution_count": null,
   "id": "607f8bb9-4ea9-4883-a36f-db8aee67d520",
   "metadata": {
    "tags": []
   },
   "outputs": [],
   "source": [
    "!mkdir data"
   ]
  },
  {
   "cell_type": "code",
   "execution_count": null,
   "id": "7b3d5a2e-5aac-4128-bf05-4a9c8aec0324",
   "metadata": {
    "tags": []
   },
   "outputs": [],
   "source": [
    "!unzip downloads/AMO20_dep_sen_min_tous_mandats_et_organes.json.zip -d data"
   ]
  },
  {
   "cell_type": "code",
   "execution_count": null,
   "id": "682f6979-81f0-4382-b423-fd9a98398edb",
   "metadata": {
    "tags": []
   },
   "outputs": [],
   "source": [
    "!unzip downloads/Scrutins.json.zip -d data"
   ]
  },
  {
   "cell_type": "code",
   "execution_count": null,
   "id": "25169a0b-3f45-4c01-9b02-d7528d7f4e13",
   "metadata": {
    "tags": []
   },
   "outputs": [],
   "source": [
    "!unzip downloads/Amendements.json.zip -d data"
   ]
  },
  {
   "cell_type": "code",
   "execution_count": null,
   "id": "65766086-c711-4115-ad07-2f81c3fe0929",
   "metadata": {
    "jupyter": {
     "source_hidden": true
    },
    "tags": []
   },
   "outputs": [],
   "source": [
    "!unzip downloads/Dossiers_Legislatifs.json.zip -d data"
   ]
  },
  {
   "cell_type": "code",
   "execution_count": null,
   "id": "1acc9450-921a-4086-9bb3-50fba797316f",
   "metadata": {},
   "outputs": [],
   "source": [
    "!mkdir -p data/reunions"
   ]
  },
  {
   "cell_type": "code",
   "execution_count": null,
   "id": "8cd02b70-560d-41ca-990b-3c2866cabe0a",
   "metadata": {
    "jupyter": {
     "source_hidden": true
    },
    "tags": []
   },
   "outputs": [],
   "source": [
    "!unzip downloads/Agenda.json.zip -d data/reunions"
   ]
  },
  {
   "cell_type": "code",
   "execution_count": null,
   "id": "82ae231f-8c54-434d-9619-45751c0f72d0",
   "metadata": {},
   "outputs": [],
   "source": [
    "!mkdir -p data/debats"
   ]
  },
  {
   "cell_type": "code",
   "execution_count": null,
   "id": "be0d6530-39a9-4639-b4f2-634e754ab0f5",
   "metadata": {},
   "outputs": [],
   "source": [
    "!unzip downloads/syseron.xml.zip -d data/debats"
   ]
  },
  {
   "cell_type": "code",
   "execution_count": null,
   "id": "4c706379-20e6-4fe9-9a7a-8bf26853c67b",
   "metadata": {
    "jupyter": {
     "source_hidden": true
    },
    "tags": []
   },
   "outputs": [],
   "source": []
  }
 ],
 "metadata": {
  "kernelspec": {
   "display_name": "Python 3 (ipykernel)",
   "language": "python",
   "name": "python3"
  },
  "language_info": {
   "codemirror_mode": {
    "name": "ipython",
    "version": 3
   },
   "file_extension": ".py",
   "mimetype": "text/x-python",
   "name": "python",
   "nbconvert_exporter": "python",
   "pygments_lexer": "ipython3",
   "version": "3.10.6"
  }
 },
 "nbformat": 4,
 "nbformat_minor": 5
}
