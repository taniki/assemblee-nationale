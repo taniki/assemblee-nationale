{
 "cells": [
  {
   "cell_type": "code",
   "execution_count": 1,
   "id": "bde6836f-453c-4dc3-b425-685d4784b0c8",
   "metadata": {
    "execution": {
     "iopub.execute_input": "2023-06-14T22:26:03.743034Z",
     "iopub.status.busy": "2023-06-14T22:26:03.742228Z",
     "iopub.status.idle": "2023-06-14T22:26:03.750364Z",
     "shell.execute_reply": "2023-06-14T22:26:03.750189Z"
    },
    "tags": []
   },
   "outputs": [],
   "source": [
    "positions = [\n",
    "    'pours',\n",
    "    'contres',\n",
    "    'abstentions'\n",
    "]"
   ]
  },
  {
   "cell_type": "code",
   "execution_count": 2,
   "id": "561aa5d7-8613-40f9-90a4-0f442e6708c4",
   "metadata": {
    "execution": {
     "iopub.execute_input": "2023-06-14T22:26:03.751184Z",
     "iopub.status.busy": "2023-06-14T22:26:03.751057Z",
     "iopub.status.idle": "2023-06-14T22:26:03.887771Z",
     "shell.execute_reply": "2023-06-14T22:26:03.887451Z"
    },
    "tags": []
   },
   "outputs": [],
   "source": [
    "import json\n",
    "import pandas as pd\n",
    "from glob import glob\n",
    "import tqdm"
   ]
  },
  {
   "cell_type": "code",
   "execution_count": 3,
   "id": "8bab7010-e2f8-4d8b-b3aa-8c7cb24826e9",
   "metadata": {
    "execution": {
     "iopub.execute_input": "2023-06-14T22:26:03.889247Z",
     "iopub.status.busy": "2023-06-14T22:26:03.889132Z",
     "iopub.status.idle": "2023-06-14T22:26:04.141641Z",
     "shell.execute_reply": "2023-06-14T22:26:04.141443Z"
    },
    "tags": []
   },
   "outputs": [
    {
     "name": "stderr",
     "output_type": "stream",
     "text": [
      "100%|███████████████████████████████████████████████| 1810/1810 [00:00<00:00, 7371.81it/s]\n"
     ]
    },
    {
     "data": {
      "text/plain": [
       "1810"
      ]
     },
     "execution_count": 3,
     "metadata": {},
     "output_type": "execute_result"
    }
   ],
   "source": [
    "def get_scrutin(filename):\n",
    "    return json.load(open(filename))\n",
    "\n",
    "scrutins = [ get_scrutin(f) for f in tqdm.tqdm(glob('data/**/VTAN*.json')) ]\n",
    "\n",
    "len(scrutins)"
   ]
  },
  {
   "cell_type": "code",
   "execution_count": 4,
   "id": "9af1e71c-76d0-4751-b1a0-5dfb23d33fd5",
   "metadata": {
    "execution": {
     "iopub.execute_input": "2023-06-14T22:26:04.142704Z",
     "iopub.status.busy": "2023-06-14T22:26:04.142602Z",
     "iopub.status.idle": "2023-06-14T22:26:13.838924Z",
     "shell.execute_reply": "2023-06-14T22:26:13.838520Z"
    },
    "tags": []
   },
   "outputs": [
    {
     "data": {
      "text/html": [
       "<div>\n",
       "<style scoped>\n",
       "    .dataframe tbody tr th:only-of-type {\n",
       "        vertical-align: middle;\n",
       "    }\n",
       "\n",
       "    .dataframe tbody tr th {\n",
       "        vertical-align: top;\n",
       "    }\n",
       "\n",
       "    .dataframe thead th {\n",
       "        text-align: right;\n",
       "    }\n",
       "</style>\n",
       "<table border=\"1\" class=\"dataframe\">\n",
       "  <thead>\n",
       "    <tr style=\"text-align: right;\">\n",
       "      <th></th>\n",
       "      <th>acteurRef</th>\n",
       "      <th>mandatRef</th>\n",
       "      <th>parDelegation</th>\n",
       "      <th>position</th>\n",
       "      <th>organe</th>\n",
       "      <th>date</th>\n",
       "      <th>scrutin</th>\n",
       "      <th>groupe_majorite</th>\n",
       "    </tr>\n",
       "  </thead>\n",
       "  <tbody>\n",
       "    <tr>\n",
       "      <th>0</th>\n",
       "      <td>PA643184</td>\n",
       "      <td>PM797142</td>\n",
       "      <td>false</td>\n",
       "      <td>contre</td>\n",
       "      <td>PO800538</td>\n",
       "      <td>2022-10-25</td>\n",
       "      <td>VTANR5L16V375</td>\n",
       "      <td>contre</td>\n",
       "    </tr>\n",
       "    <tr>\n",
       "      <th>1</th>\n",
       "      <td>PA340643</td>\n",
       "      <td>PM796335</td>\n",
       "      <td>false</td>\n",
       "      <td>contre</td>\n",
       "      <td>PO800538</td>\n",
       "      <td>2022-10-25</td>\n",
       "      <td>VTANR5L16V375</td>\n",
       "      <td>contre</td>\n",
       "    </tr>\n",
       "    <tr>\n",
       "      <th>2</th>\n",
       "      <td>PA2449</td>\n",
       "      <td>PM797046</td>\n",
       "      <td>false</td>\n",
       "      <td>contre</td>\n",
       "      <td>PO800538</td>\n",
       "      <td>2022-10-25</td>\n",
       "      <td>VTANR5L16V375</td>\n",
       "      <td>contre</td>\n",
       "    </tr>\n",
       "    <tr>\n",
       "      <th>3</th>\n",
       "      <td>PA793194</td>\n",
       "      <td>PM796200</td>\n",
       "      <td>false</td>\n",
       "      <td>contre</td>\n",
       "      <td>PO800538</td>\n",
       "      <td>2022-10-25</td>\n",
       "      <td>VTANR5L16V375</td>\n",
       "      <td>contre</td>\n",
       "    </tr>\n",
       "    <tr>\n",
       "      <th>4</th>\n",
       "      <td>PA331835</td>\n",
       "      <td>PM796518</td>\n",
       "      <td>false</td>\n",
       "      <td>contre</td>\n",
       "      <td>PO800538</td>\n",
       "      <td>2022-10-25</td>\n",
       "      <td>VTANR5L16V375</td>\n",
       "      <td>contre</td>\n",
       "    </tr>\n",
       "    <tr>\n",
       "      <th>...</th>\n",
       "      <td>...</td>\n",
       "      <td>...</td>\n",
       "      <td>...</td>\n",
       "      <td>...</td>\n",
       "      <td>...</td>\n",
       "      <td>...</td>\n",
       "      <td>...</td>\n",
       "      <td>...</td>\n",
       "    </tr>\n",
       "    <tr>\n",
       "      <th>1</th>\n",
       "      <td>PA794008</td>\n",
       "      <td>PM796653</td>\n",
       "      <td>false</td>\n",
       "      <td>pour</td>\n",
       "      <td>PO800526</td>\n",
       "      <td>2022-12-15</td>\n",
       "      <td>VTANR5L16V805</td>\n",
       "      <td>pour</td>\n",
       "    </tr>\n",
       "    <tr>\n",
       "      <th>2</th>\n",
       "      <td>PA795362</td>\n",
       "      <td>PM797442</td>\n",
       "      <td>false</td>\n",
       "      <td>pour</td>\n",
       "      <td>PO800526</td>\n",
       "      <td>2022-12-15</td>\n",
       "      <td>VTANR5L16V805</td>\n",
       "      <td>pour</td>\n",
       "    </tr>\n",
       "    <tr>\n",
       "      <th>0</th>\n",
       "      <td>PA719138</td>\n",
       "      <td>PM796356</td>\n",
       "      <td>false</td>\n",
       "      <td>abstention</td>\n",
       "      <td>PO800532</td>\n",
       "      <td>2022-12-15</td>\n",
       "      <td>VTANR5L16V805</td>\n",
       "      <td>abstention</td>\n",
       "    </tr>\n",
       "    <tr>\n",
       "      <th>1</th>\n",
       "      <td>PA721046</td>\n",
       "      <td>PM797769</td>\n",
       "      <td>false</td>\n",
       "      <td>abstention</td>\n",
       "      <td>PO800532</td>\n",
       "      <td>2022-12-15</td>\n",
       "      <td>VTANR5L16V805</td>\n",
       "      <td>abstention</td>\n",
       "    </tr>\n",
       "    <tr>\n",
       "      <th>2</th>\n",
       "      <td>PA794626</td>\n",
       "      <td>PM797028</td>\n",
       "      <td>false</td>\n",
       "      <td>abstention</td>\n",
       "      <td>PO800532</td>\n",
       "      <td>2022-12-15</td>\n",
       "      <td>VTANR5L16V805</td>\n",
       "      <td>abstention</td>\n",
       "    </tr>\n",
       "  </tbody>\n",
       "</table>\n",
       "<p>342489 rows × 8 columns</p>\n",
       "</div>"
      ],
      "text/plain": [
       "   acteurRef mandatRef parDelegation    position    organe        date  \\\n",
       "0   PA643184  PM797142         false      contre  PO800538  2022-10-25   \n",
       "1   PA340643  PM796335         false      contre  PO800538  2022-10-25   \n",
       "2     PA2449  PM797046         false      contre  PO800538  2022-10-25   \n",
       "3   PA793194  PM796200         false      contre  PO800538  2022-10-25   \n",
       "4   PA331835  PM796518         false      contre  PO800538  2022-10-25   \n",
       "..       ...       ...           ...         ...       ...         ...   \n",
       "1   PA794008  PM796653         false        pour  PO800526  2022-12-15   \n",
       "2   PA795362  PM797442         false        pour  PO800526  2022-12-15   \n",
       "0   PA719138  PM796356         false  abstention  PO800532  2022-12-15   \n",
       "1   PA721046  PM797769         false  abstention  PO800532  2022-12-15   \n",
       "2   PA794626  PM797028         false  abstention  PO800532  2022-12-15   \n",
       "\n",
       "          scrutin groupe_majorite  \n",
       "0   VTANR5L16V375          contre  \n",
       "1   VTANR5L16V375          contre  \n",
       "2   VTANR5L16V375          contre  \n",
       "3   VTANR5L16V375          contre  \n",
       "4   VTANR5L16V375          contre  \n",
       "..            ...             ...  \n",
       "1   VTANR5L16V805            pour  \n",
       "2   VTANR5L16V805            pour  \n",
       "0   VTANR5L16V805      abstention  \n",
       "1   VTANR5L16V805      abstention  \n",
       "2   VTANR5L16V805      abstention  \n",
       "\n",
       "[342489 rows x 8 columns]"
      ]
     },
     "execution_count": 4,
     "metadata": {},
     "output_type": "execute_result"
    }
   ],
   "source": [
    "def get_votes(scrutin):\n",
    "    data = scrutin\n",
    "    groupes = data['scrutin']['ventilationVotes']['organe']['groupes']['groupe']\n",
    "\n",
    "    #print(scrutin)\n",
    "    \n",
    "    votes = [ (p, g['organeRef'], g['vote']['decompteNominatif'][p]['votant'], g['vote']['positionMajoritaire'])\n",
    "           for g in groupes\n",
    "           for p in positions\n",
    "           if g['vote']['decompteNominatif'][p] != None\n",
    "          ]\n",
    "\n",
    "    df = (\n",
    "        pd.concat([\n",
    "            pd\n",
    "            .DataFrame\n",
    "            .from_records([v] if not isinstance(v, list) else v)\n",
    "            .assign(\n",
    "                position=p,\n",
    "                organe=o,\n",
    "                date=scrutin['scrutin']['dateScrutin'],\n",
    "                scrutin=scrutin['scrutin']['uid'],\n",
    "                groupe_majorite= gv\n",
    "            )\n",
    "            for (p, o, v, gv) in votes\n",
    "        ])\n",
    "        .assign(\n",
    "            position = lambda df: df.position.replace({'pours': 'pour', 'contres': 'contre', 'abstentions': 'abstention'})\n",
    "        )\n",
    "    )\n",
    "\n",
    "    return df\n",
    "\n",
    "votes = pd.concat([ get_votes(scrutin) for scrutin in scrutins ])\n",
    "\n",
    "votes"
   ]
  },
  {
   "cell_type": "code",
   "execution_count": 5,
   "id": "fe6d25b0-2a95-4e86-bd77-5de5998391c1",
   "metadata": {
    "execution": {
     "iopub.execute_input": "2023-06-14T22:26:13.840147Z",
     "iopub.status.busy": "2023-06-14T22:26:13.840078Z",
     "iopub.status.idle": "2023-06-14T22:26:14.211263Z",
     "shell.execute_reply": "2023-06-14T22:26:14.210987Z"
    }
   },
   "outputs": [],
   "source": [
    "votes.to_csv('out/votes.csv', index=False)"
   ]
  },
  {
   "cell_type": "code",
   "execution_count": 6,
   "id": "018613a0-c663-43ee-8a11-50e8e22ffed6",
   "metadata": {
    "execution": {
     "iopub.execute_input": "2023-06-14T22:26:14.212456Z",
     "iopub.status.busy": "2023-06-14T22:26:14.212382Z",
     "iopub.status.idle": "2023-06-14T22:26:14.337150Z",
     "shell.execute_reply": "2023-06-14T22:26:14.336717Z"
    },
    "tags": []
   },
   "outputs": [],
   "source": [
    "votes.to_parquet('out/votes.par', index=False)"
   ]
  },
  {
   "cell_type": "code",
   "execution_count": 7,
   "id": "b1a19f94-2c66-40f9-bea1-f0e74c96e622",
   "metadata": {
    "execution": {
     "iopub.execute_input": "2023-06-14T22:26:14.338591Z",
     "iopub.status.busy": "2023-06-14T22:26:14.338483Z",
     "iopub.status.idle": "2023-06-14T22:26:14.339958Z",
     "shell.execute_reply": "2023-06-14T22:26:14.339794Z"
    }
   },
   "outputs": [],
   "source": [
    "#scrutins[0]"
   ]
  },
  {
   "cell_type": "code",
   "execution_count": 8,
   "id": "55c804d0-38d3-4515-8464-87290c86c79e",
   "metadata": {
    "execution": {
     "iopub.execute_input": "2023-06-14T22:26:14.340922Z",
     "iopub.status.busy": "2023-06-14T22:26:14.340839Z",
     "iopub.status.idle": "2023-06-14T22:26:14.347581Z",
     "shell.execute_reply": "2023-06-14T22:26:14.347413Z"
    },
    "tags": []
   },
   "outputs": [
    {
     "data": {
      "text/html": [
       "<div>\n",
       "<style scoped>\n",
       "    .dataframe tbody tr th:only-of-type {\n",
       "        vertical-align: middle;\n",
       "    }\n",
       "\n",
       "    .dataframe tbody tr th {\n",
       "        vertical-align: top;\n",
       "    }\n",
       "\n",
       "    .dataframe thead th {\n",
       "        text-align: right;\n",
       "    }\n",
       "</style>\n",
       "<table border=\"1\" class=\"dataframe\">\n",
       "  <thead>\n",
       "    <tr style=\"text-align: right;\">\n",
       "      <th></th>\n",
       "      <th>uid</th>\n",
       "      <th>objet</th>\n",
       "      <th>type</th>\n",
       "      <th>date</th>\n",
       "      <th>seance</th>\n",
       "      <th>sort</th>\n",
       "    </tr>\n",
       "  </thead>\n",
       "  <tbody>\n",
       "    <tr>\n",
       "      <th>0</th>\n",
       "      <td>VTANR5L16V375</td>\n",
       "      <td>l'amendement n° 609 de M. Guedj après l'articl...</td>\n",
       "      <td>scrutin public ordinaire</td>\n",
       "      <td>2022-10-25</td>\n",
       "      <td>RUANR5L16S2023IDS26461</td>\n",
       "      <td>rejeté</td>\n",
       "    </tr>\n",
       "    <tr>\n",
       "      <th>1</th>\n",
       "      <td>VTANR5L16V791</td>\n",
       "      <td>le sous-amendement n° 3228 de M. Fournier à l'...</td>\n",
       "      <td>scrutin public ordinaire</td>\n",
       "      <td>2022-12-14</td>\n",
       "      <td>RUANR5L16S2023IDS26639</td>\n",
       "      <td>rejeté</td>\n",
       "    </tr>\n",
       "    <tr>\n",
       "      <th>2</th>\n",
       "      <td>VTANR5L16V67</td>\n",
       "      <td>l'amendement de suppression n° 213 de Mme Bath...</td>\n",
       "      <td>scrutin public ordinaire</td>\n",
       "      <td>2022-07-21</td>\n",
       "      <td>RUANR5L16S2022IDS26212</td>\n",
       "      <td>rejeté</td>\n",
       "    </tr>\n",
       "    <tr>\n",
       "      <th>3</th>\n",
       "      <td>VTANR5L16V1147</td>\n",
       "      <td>l'amendement n° 7 de Mme Garin et l'amendement...</td>\n",
       "      <td>scrutin public ordinaire</td>\n",
       "      <td>2023-03-08</td>\n",
       "      <td>RUANR5L16S2023IDS26863</td>\n",
       "      <td>rejeté</td>\n",
       "    </tr>\n",
       "    <tr>\n",
       "      <th>4</th>\n",
       "      <td>VTANR5L16V709</td>\n",
       "      <td>l'amendement n° 2886 de Mme Laernoes à l'artic...</td>\n",
       "      <td>scrutin public ordinaire</td>\n",
       "      <td>2022-12-08</td>\n",
       "      <td>RUANR5L16S2023IDS26604</td>\n",
       "      <td>rejeté</td>\n",
       "    </tr>\n",
       "    <tr>\n",
       "      <th>...</th>\n",
       "      <td>...</td>\n",
       "      <td>...</td>\n",
       "      <td>...</td>\n",
       "      <td>...</td>\n",
       "      <td>...</td>\n",
       "      <td>...</td>\n",
       "    </tr>\n",
       "    <tr>\n",
       "      <th>1805</th>\n",
       "      <td>VTANR5L16V1409</td>\n",
       "      <td>l'ensemble du projet de loi relatif aux jeux O...</td>\n",
       "      <td>scrutin public ordinaire</td>\n",
       "      <td>2023-04-11</td>\n",
       "      <td>RUANR5L16S2023IDS26997</td>\n",
       "      <td>adopté</td>\n",
       "    </tr>\n",
       "    <tr>\n",
       "      <th>1806</th>\n",
       "      <td>VTANR5L16V300</td>\n",
       "      <td>l'amendement n° 424 de M. Boucard après l'arti...</td>\n",
       "      <td>scrutin public ordinaire</td>\n",
       "      <td>2022-10-14</td>\n",
       "      <td>RUANR5L16S2023IDS26395</td>\n",
       "      <td>rejeté</td>\n",
       "    </tr>\n",
       "    <tr>\n",
       "      <th>1807</th>\n",
       "      <td>VTANR5L16V492</td>\n",
       "      <td>l'amendement n° 303 de M. Pancher à l'article ...</td>\n",
       "      <td>scrutin public ordinaire</td>\n",
       "      <td>2022-10-31</td>\n",
       "      <td>RUANR5L16S2023IDS26425</td>\n",
       "      <td>rejeté</td>\n",
       "    </tr>\n",
       "    <tr>\n",
       "      <th>1808</th>\n",
       "      <td>VTANR5L16V1376</td>\n",
       "      <td>le sous-amendement n° 107 de M. Meizonnet à l'...</td>\n",
       "      <td>scrutin public ordinaire</td>\n",
       "      <td>2023-04-06</td>\n",
       "      <td>RUANR5L16S2023IDS26966</td>\n",
       "      <td>rejeté</td>\n",
       "    </tr>\n",
       "    <tr>\n",
       "      <th>1809</th>\n",
       "      <td>VTANR5L16V805</td>\n",
       "      <td>l'amendement n° 2531 de Mme Trouvé à l'article...</td>\n",
       "      <td>scrutin public ordinaire</td>\n",
       "      <td>2022-12-15</td>\n",
       "      <td>RUANR5L16S2023IDS26640</td>\n",
       "      <td>rejeté</td>\n",
       "    </tr>\n",
       "  </tbody>\n",
       "</table>\n",
       "<p>1810 rows × 6 columns</p>\n",
       "</div>"
      ],
      "text/plain": [
       "                 uid                                              objet  \\\n",
       "0      VTANR5L16V375  l'amendement n° 609 de M. Guedj après l'articl...   \n",
       "1      VTANR5L16V791  le sous-amendement n° 3228 de M. Fournier à l'...   \n",
       "2       VTANR5L16V67  l'amendement de suppression n° 213 de Mme Bath...   \n",
       "3     VTANR5L16V1147  l'amendement n° 7 de Mme Garin et l'amendement...   \n",
       "4      VTANR5L16V709  l'amendement n° 2886 de Mme Laernoes à l'artic...   \n",
       "...              ...                                                ...   \n",
       "1805  VTANR5L16V1409  l'ensemble du projet de loi relatif aux jeux O...   \n",
       "1806   VTANR5L16V300  l'amendement n° 424 de M. Boucard après l'arti...   \n",
       "1807   VTANR5L16V492  l'amendement n° 303 de M. Pancher à l'article ...   \n",
       "1808  VTANR5L16V1376  le sous-amendement n° 107 de M. Meizonnet à l'...   \n",
       "1809   VTANR5L16V805  l'amendement n° 2531 de Mme Trouvé à l'article...   \n",
       "\n",
       "                          type        date                  seance    sort  \n",
       "0     scrutin public ordinaire  2022-10-25  RUANR5L16S2023IDS26461  rejeté  \n",
       "1     scrutin public ordinaire  2022-12-14  RUANR5L16S2023IDS26639  rejeté  \n",
       "2     scrutin public ordinaire  2022-07-21  RUANR5L16S2022IDS26212  rejeté  \n",
       "3     scrutin public ordinaire  2023-03-08  RUANR5L16S2023IDS26863  rejeté  \n",
       "4     scrutin public ordinaire  2022-12-08  RUANR5L16S2023IDS26604  rejeté  \n",
       "...                        ...         ...                     ...     ...  \n",
       "1805  scrutin public ordinaire  2023-04-11  RUANR5L16S2023IDS26997  adopté  \n",
       "1806  scrutin public ordinaire  2022-10-14  RUANR5L16S2023IDS26395  rejeté  \n",
       "1807  scrutin public ordinaire  2022-10-31  RUANR5L16S2023IDS26425  rejeté  \n",
       "1808  scrutin public ordinaire  2023-04-06  RUANR5L16S2023IDS26966  rejeté  \n",
       "1809  scrutin public ordinaire  2022-12-15  RUANR5L16S2023IDS26640  rejeté  \n",
       "\n",
       "[1810 rows x 6 columns]"
      ]
     },
     "execution_count": 8,
     "metadata": {},
     "output_type": "execute_result"
    }
   ],
   "source": [
    "scrutins_df = pd.DataFrame.from_records([\n",
    "    {\n",
    "        'uid': s['scrutin']['uid'],\n",
    "        'objet': s['scrutin']['titre'],\n",
    "        'type': s['scrutin']['typeVote']['libelleTypeVote'],\n",
    "        'date': s['scrutin']['dateScrutin'],\n",
    "        'seance': s['scrutin']['seanceRef'],\n",
    "        'sort': s['scrutin']['sort']['code']\n",
    "    }\n",
    "    for s in scrutins\n",
    "])\n",
    "\n",
    "scrutins_df"
   ]
  },
  {
   "cell_type": "code",
   "execution_count": 9,
   "id": "d306da1b-944d-4d71-8c86-81eb5945233e",
   "metadata": {
    "execution": {
     "iopub.execute_input": "2023-06-14T22:26:14.348605Z",
     "iopub.status.busy": "2023-06-14T22:26:14.348494Z",
     "iopub.status.idle": "2023-06-14T22:26:14.350896Z",
     "shell.execute_reply": "2023-06-14T22:26:14.350615Z"
    },
    "tags": []
   },
   "outputs": [
    {
     "data": {
      "text/plain": [
       "scrutin public ordinaire    1775\n",
       "scrutin public solennel       35\n",
       "Name: type, dtype: int64"
      ]
     },
     "execution_count": 9,
     "metadata": {},
     "output_type": "execute_result"
    }
   ],
   "source": [
    "scrutins_df.type.value_counts()"
   ]
  },
  {
   "cell_type": "code",
   "execution_count": 10,
   "id": "d930ab08-bdd0-4b5e-bdfd-d1b2d813311c",
   "metadata": {
    "execution": {
     "iopub.execute_input": "2023-06-14T22:26:14.352047Z",
     "iopub.status.busy": "2023-06-14T22:26:14.351930Z",
     "iopub.status.idle": "2023-06-14T22:26:14.358048Z",
     "shell.execute_reply": "2023-06-14T22:26:14.357862Z"
    },
    "tags": []
   },
   "outputs": [],
   "source": [
    "scrutins_df.to_csv('out/scrutins.csv', index=False)"
   ]
  },
  {
   "cell_type": "code",
   "execution_count": null,
   "id": "ab1c3718-465b-4501-a9fa-8169390dd933",
   "metadata": {},
   "outputs": [],
   "source": []
  }
 ],
 "metadata": {
  "kernelspec": {
   "display_name": "Python 3 (ipykernel)",
   "language": "python",
   "name": "python3"
  },
  "language_info": {
   "codemirror_mode": {
    "name": "ipython",
    "version": 3
   },
   "file_extension": ".py",
   "mimetype": "text/x-python",
   "name": "python",
   "nbconvert_exporter": "python",
   "pygments_lexer": "ipython3",
   "version": "3.10.6"
  }
 },
 "nbformat": 4,
 "nbformat_minor": 5
}
